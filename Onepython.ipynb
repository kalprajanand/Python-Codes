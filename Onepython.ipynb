{
  "nbformat": 4,
  "nbformat_minor": 0,
  "metadata": {
    "colab": {
      "provenance": [],
      "authorship_tag": "ABX9TyORlKQ+4aQB6WGZM4gByiNT",
      "include_colab_link": true
    },
    "kernelspec": {
      "name": "python3",
      "display_name": "Python 3"
    },
    "language_info": {
      "name": "python"
    },
    "accelerator": "GPU",
    "gpuClass": "standard"
  },
  "cells": [
    {
      "cell_type": "markdown",
      "metadata": {
        "id": "view-in-github",
        "colab_type": "text"
      },
      "source": [
        "<a href=\"https://colab.research.google.com/github/kalprajanand/Python-Codes/blob/main/Onepython.ipynb\" target=\"_parent\"><img src=\"https://colab.research.google.com/assets/colab-badge.svg\" alt=\"Open In Colab\"/></a>"
      ]
    },
    {
      "cell_type": "code",
      "execution_count": null,
      "metadata": {
        "colab": {
          "base_uri": "https://localhost:8080/"
        },
        "id": "ZdssE0tz98qP",
        "outputId": "6589b307-b7a4-4be1-de71-d072d1225dfa"
      },
      "outputs": [
        {
          "output_type": "stream",
          "name": "stdout",
          "text": [
            "Kalp\n"
          ]
        }
      ],
      "source": [
        "print(\"Kalp\")"
      ]
    },
    {
      "cell_type": "code",
      "source": [
        "x=10"
      ],
      "metadata": {
        "id": "TKTqpRdI-G1U"
      },
      "execution_count": null,
      "outputs": []
    },
    {
      "cell_type": "code",
      "source": [
        "y= 20"
      ],
      "metadata": {
        "id": "AC9dOtTs-6zt"
      },
      "execution_count": null,
      "outputs": []
    },
    {
      "cell_type": "code",
      "source": [
        "d= x+y"
      ],
      "metadata": {
        "id": "lE-emghH-8na"
      },
      "execution_count": null,
      "outputs": []
    },
    {
      "cell_type": "code",
      "source": [
        "print('d')"
      ],
      "metadata": {
        "colab": {
          "base_uri": "https://localhost:8080/"
        },
        "id": "SPHHHDZQ_AtL",
        "outputId": "f86c5fec-be46-4b7e-fd66-160e30ef0904"
      },
      "execution_count": null,
      "outputs": [
        {
          "output_type": "stream",
          "name": "stdout",
          "text": [
            "d\n"
          ]
        }
      ]
    },
    {
      "cell_type": "code",
      "source": [
        "x"
      ],
      "metadata": {
        "colab": {
          "base_uri": "https://localhost:8080/"
        },
        "id": "jbByVKSSAHSE",
        "outputId": "b333911d-1e62-44dc-b31f-faa8533abbd2"
      },
      "execution_count": null,
      "outputs": [
        {
          "output_type": "execute_result",
          "data": {
            "text/plain": [
              "10"
            ]
          },
          "metadata": {},
          "execution_count": 7
        }
      ]
    },
    {
      "cell_type": "code",
      "source": [
        "y"
      ],
      "metadata": {
        "colab": {
          "base_uri": "https://localhost:8080/"
        },
        "id": "2ITK-aTPANvG",
        "outputId": "a3d2f06a-a631-4ee7-c1d5-c7eb639cfe56"
      },
      "execution_count": null,
      "outputs": [
        {
          "output_type": "execute_result",
          "data": {
            "text/plain": [
              "20"
            ]
          },
          "metadata": {},
          "execution_count": 8
        }
      ]
    },
    {
      "cell_type": "code",
      "source": [
        "df"
      ],
      "metadata": {
        "id": "gqnobtgYk5Tk"
      },
      "execution_count": null,
      "outputs": []
    },
    {
      "cell_type": "code",
      "source": [],
      "metadata": {
        "id": "IZukq8M4K4Ew"
      },
      "execution_count": null,
      "outputs": []
    },
    {
      "cell_type": "code",
      "source": [
        "!wget https://archive.ics.uci.edu/ml/machine-learning-databases/autos/imports-85.data\n"
      ],
      "metadata": {
        "id": "Vlx5JVeolveT",
        "colab": {
          "base_uri": "https://localhost:8080/"
        },
        "outputId": "27bf6157-da4f-459c-8ea0-f333ec376ea6"
      },
      "execution_count": null,
      "outputs": [
        {
          "output_type": "stream",
          "name": "stdout",
          "text": [
            "--2022-10-11 15:41:13--  https://archive.ics.uci.edu/ml/machine-learning-databases/autos/imports-85.data\n",
            "Resolving archive.ics.uci.edu (archive.ics.uci.edu)... 128.195.10.252\n",
            "Connecting to archive.ics.uci.edu (archive.ics.uci.edu)|128.195.10.252|:443... connected.\n",
            "HTTP request sent, awaiting response... 200 OK\n",
            "Length: 25936 (25K) [application/x-httpd-php]\n",
            "Saving to: ‘imports-85.data’\n",
            "\n",
            "\rimports-85.data       0%[                    ]       0  --.-KB/s               \rimports-85.data     100%[===================>]  25.33K  --.-KB/s    in 0.01s   \n",
            "\n",
            "2022-10-11 15:41:14 (2.42 MB/s) - ‘imports-85.data’ saved [25936/25936]\n",
            "\n"
          ]
        }
      ]
    },
    {
      "cell_type": "code",
      "source": [
        "import pandas as pd\n",
        "import numpy as np\n",
        "\n",
        "data = pd.read_csv('https://archive.ics.uci.edu/ml/machine-learning-databases/autos/imports-85.data')\n",
        "print(data)"
      ],
      "metadata": {
        "colab": {
          "base_uri": "https://localhost:8080/"
        },
        "id": "Dvr4_gLZtI8o",
        "outputId": "2b65d07c-91df-400a-819a-159448a36feb"
      },
      "execution_count": null,
      "outputs": [
        {
          "output_type": "stream",
          "name": "stdout",
          "text": [
            "     3    ?  alfa-romero     gas    std   two  convertible  rwd  front  88.60  \\\n",
            "0    3    ?  alfa-romero     gas    std   two  convertible  rwd  front   88.6   \n",
            "1    1    ?  alfa-romero     gas    std   two    hatchback  rwd  front   94.5   \n",
            "2    2  164         audi     gas    std  four        sedan  fwd  front   99.8   \n",
            "3    2  164         audi     gas    std  four        sedan  4wd  front   99.4   \n",
            "4    2    ?         audi     gas    std   two        sedan  fwd  front   99.8   \n",
            "..  ..  ...          ...     ...    ...   ...          ...  ...    ...    ...   \n",
            "199 -1   95        volvo     gas    std  four        sedan  rwd  front  109.1   \n",
            "200 -1   95        volvo     gas  turbo  four        sedan  rwd  front  109.1   \n",
            "201 -1   95        volvo     gas    std  four        sedan  rwd  front  109.1   \n",
            "202 -1   95        volvo  diesel  turbo  four        sedan  rwd  front  109.1   \n",
            "203 -1   95        volvo     gas  turbo  four        sedan  rwd  front  109.1   \n",
            "\n",
            "     ...  130  mpfi  3.47  2.68  9.00  111  5000  21  27  13495  \n",
            "0    ...  130  mpfi  3.47  2.68   9.0  111  5000  21  27  16500  \n",
            "1    ...  152  mpfi  2.68  3.47   9.0  154  5000  19  26  16500  \n",
            "2    ...  109  mpfi  3.19  3.40  10.0  102  5500  24  30  13950  \n",
            "3    ...  136  mpfi  3.19  3.40   8.0  115  5500  18  22  17450  \n",
            "4    ...  136  mpfi  3.19  3.40   8.5  110  5500  19  25  15250  \n",
            "..   ...  ...   ...   ...   ...   ...  ...   ...  ..  ..    ...  \n",
            "199  ...  141  mpfi  3.78  3.15   9.5  114  5400  23  28  16845  \n",
            "200  ...  141  mpfi  3.78  3.15   8.7  160  5300  19  25  19045  \n",
            "201  ...  173  mpfi  3.58  2.87   8.8  134  5500  18  23  21485  \n",
            "202  ...  145   idi  3.01  3.40  23.0  106  4800  26  27  22470  \n",
            "203  ...  141  mpfi  3.78  3.15   9.5  114  5400  19  25  22625  \n",
            "\n",
            "[204 rows x 26 columns]\n"
          ]
        }
      ]
    },
    {
      "cell_type": "code",
      "source": [],
      "metadata": {
        "id": "W4hPlfSSun96"
      },
      "execution_count": null,
      "outputs": []
    }
  ]
}